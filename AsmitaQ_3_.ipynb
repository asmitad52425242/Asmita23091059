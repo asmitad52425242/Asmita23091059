{
  "nbformat": 4,
  "nbformat_minor": 0,
  "metadata": {
    "colab": {
      "provenance": []
    },
    "kernelspec": {
      "name": "python3",
      "display_name": "Python 3"
    },
    "language_info": {
      "name": "python"
    }
  },
  "cells": [
    {
      "cell_type": "code",
      "execution_count": null,
      "metadata": {
        "colab": {
          "base_uri": "https://localhost:8080/",
          "height": 119
        },
        "id": "fDmEcTtd_Fdk",
        "outputId": "7a385eb0-c8c8-4e1a-94ed-535fa811a6f4"
      },
      "outputs": [
        {
          "output_type": "execute_result",
          "data": {
            "text/plain": [
              "Matrix([\n",
              "[1, 7, 5, 9, 0],\n",
              "[3, 0, 3, 7, 9],\n",
              "[0, 9, 4, 5, 2],\n",
              "[6, 1, 6, 2, 4],\n",
              "[1, 2, 8, 9, 8]])"
            ],
            "text/latex": "$\\displaystyle \\left[\\begin{matrix}1 & 7 & 5 & 9 & 0\\\\3 & 0 & 3 & 7 & 9\\\\0 & 9 & 4 & 5 & 2\\\\6 & 1 & 6 & 2 & 4\\\\1 & 2 & 8 & 9 & 8\\end{matrix}\\right]$"
          },
          "metadata": {},
          "execution_count": 2
        }
      ],
      "source": [
        "import numpy as np\n",
        "import sympy as sp\n",
        "np.random.seed(59)\n",
        "A = np.random.randint(0,10,(5,5))\n",
        "sp.Matrix(A)"
      ]
    },
    {
      "cell_type": "code",
      "source": [
        "U,s,Vt=(np.linalg.svd(A))\n",
        "sp.Matrix(np.round(U))"
      ],
      "metadata": {
        "colab": {
          "base_uri": "https://localhost:8080/",
          "height": 119
        },
        "id": "z1TuqKd8Ghb7",
        "outputId": "4dc0afcf-c76c-4e7b-e5ff-d45a4f366590"
      },
      "execution_count": null,
      "outputs": [
        {
          "output_type": "execute_result",
          "data": {
            "text/plain": [
              "Matrix([\n",
              "[   0, -1.0,    0,  1.0,    0],\n",
              "[   0,    0,    0,    0, -1.0],\n",
              "[   0, -1.0,    0, -1.0,    0],\n",
              "[   0,    0, -1.0,    0,    0],\n",
              "[-1.0,    0,    0,    0,  1.0]])"
            ],
            "text/latex": "$\\displaystyle \\left[\\begin{matrix}0 & -1.0 & 0 & 1.0 & 0\\\\0 & 0 & 0 & 0 & -1.0\\\\0 & -1.0 & 0 & -1.0 & 0\\\\0 & 0 & -1.0 & 0 & 0\\\\-1.0 & 0 & 0 & 0 & 1.0\\end{matrix}\\right]$"
          },
          "metadata": {},
          "execution_count": 22
        }
      ]
    },
    {
      "cell_type": "code",
      "source": [
        "s"
      ],
      "metadata": {
        "colab": {
          "base_uri": "https://localhost:8080/"
        },
        "id": "eM6h1G0QFD60",
        "outputId": "e73c1dbf-8215-47e7-87af-17d16258f636"
      },
      "execution_count": null,
      "outputs": [
        {
          "output_type": "execute_result",
          "data": {
            "text/plain": [
              "array([23.77981748, 10.84509287,  5.76865448,  3.54311022,  2.8413442 ])"
            ]
          },
          "metadata": {},
          "execution_count": 14
        }
      ]
    },
    {
      "cell_type": "code",
      "source": [
        "sp.Matrix(Vt)"
      ],
      "metadata": {
        "colab": {
          "base_uri": "https://localhost:8080/",
          "height": 139
        },
        "id": "FgLE1z_nFVD1",
        "outputId": "b5668509-6e84-4c1e-c5c1-0c43a1ec0cae"
      },
      "execution_count": null,
      "outputs": [
        {
          "output_type": "execute_result",
          "data": {
            "text/plain": [
              "Matrix([\n",
              "[  -0.179079880503951,  -0.341502026134178, -0.494752153409916, -0.633629916278343, -0.452813646479755],\n",
              "[   0.273611372439203,  -0.738980172048107, 0.0260632865475775, -0.129177797488168,  0.601397475819554],\n",
              "[  -0.714027249846699,  -0.168929613965671, -0.435966299583156,  0.464627534934819,  0.235971420748218],\n",
              "[-0.00798905659731513,  -0.555050267228791,  0.372025084817842,  0.439748035246329, -0.600061978121598],\n",
              "[  -0.619006037710192, -0.0258197180592596,  0.652741705182561,  -0.41541442573723,  0.132378203048835]])"
            ],
            "text/latex": "$\\displaystyle \\left[\\begin{matrix}-0.179079880503951 & -0.341502026134178 & -0.494752153409916 & -0.633629916278343 & -0.452813646479755\\\\0.273611372439203 & -0.738980172048107 & 0.0260632865475775 & -0.129177797488168 & 0.601397475819554\\\\-0.714027249846699 & -0.168929613965671 & -0.435966299583156 & 0.464627534934819 & 0.235971420748218\\\\-0.00798905659731513 & -0.555050267228791 & 0.372025084817842 & 0.439748035246329 & -0.600061978121598\\\\-0.619006037710192 & -0.0258197180592596 & 0.652741705182561 & -0.41541442573723 & 0.132378203048835\\end{matrix}\\right]$"
          },
          "metadata": {},
          "execution_count": 15
        }
      ]
    },
    {
      "cell_type": "code",
      "source": [
        "sp.Matrix(U)"
      ],
      "metadata": {
        "colab": {
          "base_uri": "https://localhost:8080/",
          "height": 139
        },
        "id": "GepCpdlUFeWM",
        "outputId": "95a3abc2-8b12-4bd5-8ee4-e2054acc0664"
      },
      "execution_count": null,
      "outputs": [
        {
          "output_type": "execute_result",
          "data": {
            "text/plain": [
              "Matrix([\n",
              "[-0.451896827532075, -0.546932483482575,  0.0182506629949825,  0.543171591039938,  -0.448648695267707],\n",
              "[-0.442906189012673,  0.498599388878797,   0.333900199586182, -0.347212871224835,  -0.568495062349774],\n",
              "[-0.383783590103376,  -0.55229240637049, -0.0813276664933821,  -0.70806034578285,   0.199297795335197],\n",
              "[-0.313837928126054,  0.295645424971787,  -0.900686663348007, 0.0305985570426281, -0.0438953338834417],\n",
              "[-0.594843908800978,   0.24460251118911,   0.265192223012525,  0.286569572320107,   0.658696668244421]])"
            ],
            "text/latex": "$\\displaystyle \\left[\\begin{matrix}-0.451896827532075 & -0.546932483482575 & 0.0182506629949825 & 0.543171591039938 & -0.448648695267707\\\\-0.442906189012673 & 0.498599388878797 & 0.333900199586182 & -0.347212871224835 & -0.568495062349774\\\\-0.383783590103376 & -0.55229240637049 & -0.0813276664933821 & -0.70806034578285 & 0.199297795335197\\\\-0.313837928126054 & 0.295645424971787 & -0.900686663348007 & 0.0305985570426281 & -0.0438953338834417\\\\-0.594843908800978 & 0.24460251118911 & 0.265192223012525 & 0.286569572320107 & 0.658696668244421\\end{matrix}\\right]$"
          },
          "metadata": {},
          "execution_count": 17
        }
      ]
    },
    {
      "cell_type": "code",
      "source": [
        "Sigma=np.zeros((A.shape[0],A.shape[1]))\n",
        "sp.Matrix(Sigma)"
      ],
      "metadata": {
        "colab": {
          "base_uri": "https://localhost:8080/",
          "height": 119
        },
        "id": "VrAjY1Y4FlcB",
        "outputId": "c8e1c0b6-328e-4262-c4f2-8c2835193c72"
      },
      "execution_count": null,
      "outputs": [
        {
          "output_type": "execute_result",
          "data": {
            "text/plain": [
              "Matrix([\n",
              "[0, 0, 0, 0, 0],\n",
              "[0, 0, 0, 0, 0],\n",
              "[0, 0, 0, 0, 0],\n",
              "[0, 0, 0, 0, 0],\n",
              "[0, 0, 0, 0, 0]])"
            ],
            "text/latex": "$\\displaystyle \\left[\\begin{matrix}0 & 0 & 0 & 0 & 0\\\\0 & 0 & 0 & 0 & 0\\\\0 & 0 & 0 & 0 & 0\\\\0 & 0 & 0 & 0 & 0\\\\0 & 0 & 0 & 0 & 0\\end{matrix}\\right]$"
          },
          "metadata": {},
          "execution_count": 18
        }
      ]
    },
    {
      "cell_type": "code",
      "source": [
        "Sigma[:A.shape[1], :A.shape[0]] = np.diag(s)\n",
        "S=sp.Matrix(Sigma)\n",
        "S"
      ],
      "metadata": {
        "colab": {
          "base_uri": "https://localhost:8080/",
          "height": 139
        },
        "id": "uZoA0j0UF7u2",
        "outputId": "a125267a-2538-48d6-ef11-8aef72dc7a67"
      },
      "execution_count": null,
      "outputs": [
        {
          "output_type": "execute_result",
          "data": {
            "text/plain": [
              "Matrix([\n",
              "[23.7798174766676,                0,                0,                0,                0],\n",
              "[               0, 10.8450928692045,                0,                0,                0],\n",
              "[               0,                0, 5.76865448231329,                0,                0],\n",
              "[               0,                0,                0, 3.54311021756992,                0],\n",
              "[               0,                0,                0,                0, 2.84134420381325]])"
            ],
            "text/latex": "$\\displaystyle \\left[\\begin{matrix}23.7798174766676 & 0 & 0 & 0 & 0\\\\0 & 10.8450928692045 & 0 & 0 & 0\\\\0 & 0 & 5.76865448231329 & 0 & 0\\\\0 & 0 & 0 & 3.54311021756992 & 0\\\\0 & 0 & 0 & 0 & 2.84134420381325\\end{matrix}\\right]$"
          },
          "metadata": {},
          "execution_count": 20
        }
      ]
    },
    {
      "cell_type": "code",
      "source": [
        "K=U@Sigma@Vt\n",
        "sp.Matrix(K)"
      ],
      "metadata": {
        "colab": {
          "base_uri": "https://localhost:8080/",
          "height": 139
        },
        "id": "vG6BkFf7GB_m",
        "outputId": "c2e72a49-071d-4c87-cb7d-094dbb123b50"
      },
      "execution_count": null,
      "outputs": [
        {
          "output_type": "execute_result",
          "data": {
            "text/plain": [
              "Matrix([\n",
              "[                 1.0,                  7.0,              5.0, 8.99999999999999, 8.364979866384e-16],\n",
              "[                 3.0, 5.45253309531767e-15,              3.0,              7.0,                9.0],\n",
              "[1.67474764111767e-15,                  9.0,              4.0,              5.0,                2.0],\n",
              "[    5.99999999999999,                  1.0, 5.99999999999999,              2.0,                4.0],\n",
              "[   0.999999999999999,                  2.0,              8.0,              9.0,   7.99999999999999]])"
            ],
            "text/latex": "$\\displaystyle \\left[\\begin{matrix}1.0 & 7.0 & 5.0 & 8.99999999999999 & 8.364979866384 \\cdot 10^{-16}\\\\3.0 & 5.45253309531767 \\cdot 10^{-15} & 3.0 & 7.0 & 9.0\\\\1.67474764111767 \\cdot 10^{-15} & 9.0 & 4.0 & 5.0 & 2.0\\\\5.99999999999999 & 1.0 & 5.99999999999999 & 2.0 & 4.0\\\\0.999999999999999 & 2.0 & 8.0 & 9.0 & 7.99999999999999\\end{matrix}\\right]$"
          },
          "metadata": {},
          "execution_count": 21
        }
      ]
    },
    {
      "cell_type": "code",
      "source": [
        "rank_2_approx = np.dot(U[:, :2], np.dot(np.diag(S[:2]), Vt[:2, :]))\n",
        "print(\"Rank 2 approximation:\")\n",
        "print(rank_2_approx)"
      ],
      "metadata": {
        "colab": {
          "base_uri": "https://localhost:8080/"
        },
        "id": "xfXAVDBPIhR9",
        "outputId": "82495ff8-040a-4c36-a0ae-f678d5b9e470"
      },
      "execution_count": null,
      "outputs": [
        {
          "output_type": "stream",
          "name": "stdout",
          "text": [
            "Rank 2 approximation:\n",
            "[[1.92439670760136 3.66978899518143 5.31661855268950 6.80900233623322\n",
            "  4.86594634746464]\n",
            " [1.88611019149444 3.59677731577146 5.21084264845529 6.67353495750176\n",
            "  4.76913671747946]\n",
            " [1.63433738019315 3.11665121258818 4.51525841972539 5.78269906406099\n",
            "  4.13251486778327]\n",
            " [1.33647469690046 2.54863257438068 3.69233959956088 4.72878554487577\n",
            "  3.37935215965297]\n",
            " [2.53313497659391 4.83064163625622 6.99840753199612 8.96287231499203\n",
            "  6.40517562636854]]\n"
          ]
        }
      ]
    },
    {
      "cell_type": "code",
      "source": [
        "rank_3_approx = np.dot(U[:, :3], np.dot(np.diag(S[:3]), Vt[:3, :]))\n",
        "print(\"\\nRank 3 approximation:\")\n",
        "print(rank_3_approx)"
      ],
      "metadata": {
        "colab": {
          "base_uri": "https://localhost:8080/"
        },
        "id": "evoz6o_5Kwrj",
        "outputId": "f7346a30-c9a9-456f-b723-c95fc41bd9dc"
      },
      "execution_count": null,
      "outputs": [
        {
          "output_type": "stream",
          "name": "stdout",
          "text": [
            "\n",
            "Rank 3 approximation:\n",
            "[[1.92439670760136 3.66978899518143 5.31661855268950 6.80900233623322\n",
            "  4.86594634746464]\n",
            " [1.88611019149444 3.59677731577146 5.21084264845529 6.67353495750176\n",
            "  4.76913671747946]\n",
            " [1.63433738019315 3.11665121258818 4.51525841972539 5.78269906406099\n",
            "  4.13251486778327]\n",
            " [1.33647469690046 2.54863257438068 3.69233959956088 4.72878554487577\n",
            "  3.37935215965297]\n",
            " [2.53313497659391 4.83064163625622 6.99840753199612 8.96287231499203\n",
            "  6.40517562636854]]\n"
          ]
        }
      ]
    }
  ]
}