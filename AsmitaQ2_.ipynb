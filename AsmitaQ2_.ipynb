{
  "nbformat": 4,
  "nbformat_minor": 0,
  "metadata": {
    "colab": {
      "provenance": []
    },
    "kernelspec": {
      "name": "python3",
      "display_name": "Python 3"
    },
    "language_info": {
      "name": "python"
    }
  },
  "cells": [
    {
      "cell_type": "code",
      "execution_count": null,
      "metadata": {
        "id": "EIvv_9gTW9CV",
        "outputId": "0bb13cbc-871c-4758-d5ee-39f29930528a",
        "colab": {
          "base_uri": "https://localhost:8080/",
          "height": 119
        }
      },
      "outputs": [
        {
          "output_type": "execute_result",
          "data": {
            "text/plain": [
              "Matrix([\n",
              "[1, 7, 5, 9, 0],\n",
              "[3, 0, 3, 7, 9],\n",
              "[0, 9, 4, 5, 2],\n",
              "[6, 1, 6, 2, 4],\n",
              "[1, 2, 8, 9, 8]])"
            ],
            "text/latex": "$\\displaystyle \\left[\\begin{matrix}1 & 7 & 5 & 9 & 0\\\\3 & 0 & 3 & 7 & 9\\\\0 & 9 & 4 & 5 & 2\\\\6 & 1 & 6 & 2 & 4\\\\1 & 2 & 8 & 9 & 8\\end{matrix}\\right]$"
          },
          "metadata": {},
          "execution_count": 48
        }
      ],
      "source": [
        "import numpy as np\n",
        "import sympy as sp\n",
        "np.random.seed(59)\n",
        "A = np.random.randint(0,10,(5,5))\n",
        "A\n",
        "sp.Matrix(A)"
      ]
    },
    {
      "cell_type": "code",
      "source": [
        "A[1]=A[1]-3*A[0]\n",
        "A"
      ],
      "metadata": {
        "colab": {
          "base_uri": "https://localhost:8080/"
        },
        "id": "xzUXMuscYd1R",
        "outputId": "4a088a5e-4d39-4a45-9e6a-a4e29ab63655"
      },
      "execution_count": null,
      "outputs": [
        {
          "output_type": "execute_result",
          "data": {
            "text/plain": [
              "array([[  1,   7,   5,   9,   0],\n",
              "       [  0, -21, -12, -20,   9],\n",
              "       [  0,   9,   4,   5,   2],\n",
              "       [  6,   1,   6,   2,   4],\n",
              "       [  1,   2,   8,   9,   8]])"
            ]
          },
          "metadata": {},
          "execution_count": 49
        }
      ]
    },
    {
      "cell_type": "code",
      "source": [
        "A[3]=A[3]-6*A[0]\n",
        "A"
      ],
      "metadata": {
        "colab": {
          "base_uri": "https://localhost:8080/"
        },
        "id": "xgX-327EZC0u",
        "outputId": "5255a3c4-90df-4c0b-dffd-047500df756f"
      },
      "execution_count": null,
      "outputs": [
        {
          "output_type": "execute_result",
          "data": {
            "text/plain": [
              "array([[  1,   7,   5,   9,   0],\n",
              "       [  0, -21, -12, -20,   9],\n",
              "       [  0,   9,   4,   5,   2],\n",
              "       [  0, -41, -24, -52,   4],\n",
              "       [  1,   2,   8,   9,   8]])"
            ]
          },
          "metadata": {},
          "execution_count": 50
        }
      ]
    },
    {
      "cell_type": "code",
      "source": [
        "A[4]=A[4]-A[0]\n",
        "A"
      ],
      "metadata": {
        "colab": {
          "base_uri": "https://localhost:8080/"
        },
        "id": "-Wr6nh3LZOJY",
        "outputId": "72298aae-2f57-4f9f-e03c-f8d22d75729e"
      },
      "execution_count": null,
      "outputs": [
        {
          "output_type": "execute_result",
          "data": {
            "text/plain": [
              "array([[  1,   7,   5,   9,   0],\n",
              "       [  0, -21, -12, -20,   9],\n",
              "       [  0,   9,   4,   5,   2],\n",
              "       [  0, -41, -24, -52,   4],\n",
              "       [  0,  -5,   3,   0,   8]])"
            ]
          },
          "metadata": {},
          "execution_count": 51
        }
      ]
    },
    {
      "cell_type": "code",
      "source": [
        "A[1]=A[1]/(-21)\n",
        "A"
      ],
      "metadata": {
        "colab": {
          "base_uri": "https://localhost:8080/"
        },
        "id": "-vgY71xeZZ00",
        "outputId": "35491124-63b8-4dbf-c52f-8b359d6f6403"
      },
      "execution_count": null,
      "outputs": [
        {
          "output_type": "execute_result",
          "data": {
            "text/plain": [
              "array([[  1,   7,   5,   9,   0],\n",
              "       [  0,   1,   0,   0,   0],\n",
              "       [  0,   9,   4,   5,   2],\n",
              "       [  0, -41, -24, -52,   4],\n",
              "       [  0,  -5,   3,   0,   8]])"
            ]
          },
          "metadata": {},
          "execution_count": 52
        }
      ]
    },
    {
      "cell_type": "code",
      "source": [
        "A[2]=A[2]-9*A[1]\n",
        "A"
      ],
      "metadata": {
        "colab": {
          "base_uri": "https://localhost:8080/"
        },
        "id": "7nYVTjr-Zmhu",
        "outputId": "49763919-e922-4221-a1ca-865435592b10"
      },
      "execution_count": null,
      "outputs": [
        {
          "output_type": "execute_result",
          "data": {
            "text/plain": [
              "array([[  1,   7,   5,   9,   0],\n",
              "       [  0,   1,   0,   0,   0],\n",
              "       [  0,   0,   4,   5,   2],\n",
              "       [  0, -41, -24, -52,   4],\n",
              "       [  0,  -5,   3,   0,   8]])"
            ]
          },
          "metadata": {},
          "execution_count": 53
        }
      ]
    },
    {
      "cell_type": "code",
      "source": [
        "A[3]=A[3]+41*A[1]\n",
        "A"
      ],
      "metadata": {
        "colab": {
          "base_uri": "https://localhost:8080/"
        },
        "id": "wExtTui9ZyiT",
        "outputId": "03e8599d-4cb6-4953-98ff-681f4b345b82"
      },
      "execution_count": null,
      "outputs": [
        {
          "output_type": "execute_result",
          "data": {
            "text/plain": [
              "array([[  1,   7,   5,   9,   0],\n",
              "       [  0,   1,   0,   0,   0],\n",
              "       [  0,   0,   4,   5,   2],\n",
              "       [  0,   0, -24, -52,   4],\n",
              "       [  0,  -5,   3,   0,   8]])"
            ]
          },
          "metadata": {},
          "execution_count": 54
        }
      ]
    },
    {
      "cell_type": "code",
      "source": [
        "A[4]=A[4]+5*A[1]\n",
        "A"
      ],
      "metadata": {
        "colab": {
          "base_uri": "https://localhost:8080/"
        },
        "id": "l9GaZ3ybaG5b",
        "outputId": "b31a1303-f2e2-4092-b64c-f6e6c74c98af"
      },
      "execution_count": null,
      "outputs": [
        {
          "output_type": "execute_result",
          "data": {
            "text/plain": [
              "array([[  1,   7,   5,   9,   0],\n",
              "       [  0,   1,   0,   0,   0],\n",
              "       [  0,   0,   4,   5,   2],\n",
              "       [  0,   0, -24, -52,   4],\n",
              "       [  0,   0,   3,   0,   8]])"
            ]
          },
          "metadata": {},
          "execution_count": 55
        }
      ]
    },
    {
      "cell_type": "code",
      "source": [
        "A[2]=A[2]/4\n",
        "A"
      ],
      "metadata": {
        "colab": {
          "base_uri": "https://localhost:8080/"
        },
        "id": "vCQ3_rjWbQj-",
        "outputId": "d76d0dd0-0be7-4224-b051-97f14fa53da7"
      },
      "execution_count": null,
      "outputs": [
        {
          "output_type": "execute_result",
          "data": {
            "text/plain": [
              "array([[  1,   7,   5,   9,   0],\n",
              "       [  0,   1,   0,   0,   0],\n",
              "       [  0,   0,   1,   1,   0],\n",
              "       [  0,   0, -24, -52,   4],\n",
              "       [  0,   0,   3,   0,   8]])"
            ]
          },
          "metadata": {},
          "execution_count": 56
        }
      ]
    },
    {
      "cell_type": "code",
      "source": [
        "A[3]=A[3]+24*A[2]\n",
        "A"
      ],
      "metadata": {
        "colab": {
          "base_uri": "https://localhost:8080/"
        },
        "id": "3aaOx1hrbbie",
        "outputId": "b8696c2f-df8f-481b-d22e-d51f18bca829"
      },
      "execution_count": null,
      "outputs": [
        {
          "output_type": "execute_result",
          "data": {
            "text/plain": [
              "array([[  1,   7,   5,   9,   0],\n",
              "       [  0,   1,   0,   0,   0],\n",
              "       [  0,   0,   1,   1,   0],\n",
              "       [  0,   0,   0, -28,   4],\n",
              "       [  0,   0,   3,   0,   8]])"
            ]
          },
          "metadata": {},
          "execution_count": 57
        }
      ]
    },
    {
      "cell_type": "code",
      "source": [
        "A[4]=A[4]-3*A[2]\n",
        "A"
      ],
      "metadata": {
        "colab": {
          "base_uri": "https://localhost:8080/"
        },
        "id": "pPaLBqvebpfV",
        "outputId": "528247c0-10c2-41d6-fdbc-15b2a9a36876"
      },
      "execution_count": null,
      "outputs": [
        {
          "output_type": "execute_result",
          "data": {
            "text/plain": [
              "array([[  1,   7,   5,   9,   0],\n",
              "       [  0,   1,   0,   0,   0],\n",
              "       [  0,   0,   1,   1,   0],\n",
              "       [  0,   0,   0, -28,   4],\n",
              "       [  0,   0,   0,  -3,   8]])"
            ]
          },
          "metadata": {},
          "execution_count": 58
        }
      ]
    },
    {
      "cell_type": "code",
      "source": [
        "A[3]=A[3]/(-28)\n",
        "A"
      ],
      "metadata": {
        "colab": {
          "base_uri": "https://localhost:8080/"
        },
        "id": "X5weGa_cb7RO",
        "outputId": "52e5cef2-9661-4f1c-d44e-42219181bb12"
      },
      "execution_count": null,
      "outputs": [
        {
          "output_type": "execute_result",
          "data": {
            "text/plain": [
              "array([[ 1,  7,  5,  9,  0],\n",
              "       [ 0,  1,  0,  0,  0],\n",
              "       [ 0,  0,  1,  1,  0],\n",
              "       [ 0,  0,  0,  1,  0],\n",
              "       [ 0,  0,  0, -3,  8]])"
            ]
          },
          "metadata": {},
          "execution_count": 59
        }
      ]
    },
    {
      "cell_type": "code",
      "source": [
        "A[4]=A[4]+3*A[3]\n",
        "A"
      ],
      "metadata": {
        "colab": {
          "base_uri": "https://localhost:8080/"
        },
        "id": "RffwLneacSLl",
        "outputId": "e24374bb-6886-4387-b773-6c64ab2d348e"
      },
      "execution_count": null,
      "outputs": [
        {
          "output_type": "execute_result",
          "data": {
            "text/plain": [
              "array([[1, 7, 5, 9, 0],\n",
              "       [0, 1, 0, 0, 0],\n",
              "       [0, 0, 1, 1, 0],\n",
              "       [0, 0, 0, 1, 0],\n",
              "       [0, 0, 0, 0, 8]])"
            ]
          },
          "metadata": {},
          "execution_count": 60
        }
      ]
    },
    {
      "cell_type": "code",
      "source": [
        "A[4]=A[4]/8\n",
        "A"
      ],
      "metadata": {
        "colab": {
          "base_uri": "https://localhost:8080/"
        },
        "id": "C1x2My1qgCNh",
        "outputId": "de1ffccc-72ca-4822-825b-7f0b85d32960"
      },
      "execution_count": null,
      "outputs": [
        {
          "output_type": "execute_result",
          "data": {
            "text/plain": [
              "array([[1, 7, 5, 9, 0],\n",
              "       [0, 1, 0, 0, 0],\n",
              "       [0, 0, 1, 1, 0],\n",
              "       [0, 0, 0, 1, 0],\n",
              "       [0, 0, 0, 0, 1]])"
            ]
          },
          "metadata": {},
          "execution_count": 61
        }
      ]
    }
  ]
}